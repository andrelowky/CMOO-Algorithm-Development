{
 "cells": [
  {
   "cell_type": "code",
   "execution_count": 1,
   "id": "a6c265f1-18ae-49da-8338-33da047f3f4b",
   "metadata": {},
   "outputs": [],
   "source": [
    "import torch\n",
    "import numpy as np\n",
    "\n",
    "tkwargs = {\"dtype\": torch.double,\n",
    "           \"device\": torch.device(\"cuda:0\" if torch.cuda.is_available() else \"cpu\")}\n",
    "\n",
    "import warnings\n",
    "warnings.filterwarnings(\"ignore\", category=RuntimeWarning)\n",
    "warnings.filterwarnings(\"ignore\", category=UserWarning)\n",
    "\n",
    "from MTBO.main import MTBO\n",
    "from MTBO.problems import DTLZ1, DTLZ2"
   ]
  },
  {
   "cell_type": "code",
   "execution_count": null,
   "id": "7334861c-32c8-4c0b-bf3e-c455cafef100",
   "metadata": {},
   "outputs": [],
   "source": [
    "n_problem = 2\n",
    "n_iter = 10\n",
    "n_batch = 4\n",
    "n_init = 10\n",
    "task_type = 'multi'\n",
    "algo = 'qnehvi'\n",
    "random_state = 1"
   ]
  },
  {
   "cell_type": "code",
   "execution_count": null,
   "id": "c88da9fd-1858-44e7-ad10-81c382fb4e47",
   "metadata": {},
   "outputs": [],
   "source": [
    "problem_list = []\n",
    "corr = 0\n",
    "for i in range(args.n_problem):\n",
    "    problem_list.append(DTLZ1(n_var=6, delta1 = 1, delta2 = corr, delta3 = 1, negate=True))\n",
    "    corr+=0.1\n",
    "\n",
    "opt = MTBO(problem_list)"
   ]
  },
  {
   "cell_type": "code",
   "execution_count": null,
   "id": "19166173-d4c2-4076-85e7-be6afd54827e",
   "metadata": {},
   "outputs": [],
   "source": [
    "opt.initialize(n_init=args.n_init, random_state=trial)"
   ]
  },
  {
   "cell_type": "code",
   "execution_count": null,
   "id": "393c9af7-2b75-4fa5-8253-02e2326971a8",
   "metadata": {},
   "outputs": [],
   "source": [
    "results = opt.run(n_iter=n_iter, n_batch=n_batch,\n",
    "                  task_type=task_type, algo=algo, random_state=random_state)"
   ]
  }
 ],
 "metadata": {
  "kernelspec": {
   "display_name": "EGBO",
   "language": "python",
   "name": "egbo"
  },
  "language_info": {
   "codemirror_mode": {
    "name": "ipython",
    "version": 3
   },
   "file_extension": ".py",
   "mimetype": "text/x-python",
   "name": "python",
   "nbconvert_exporter": "python",
   "pygments_lexer": "ipython3",
   "version": "3.11.7"
  }
 },
 "nbformat": 4,
 "nbformat_minor": 5
}
